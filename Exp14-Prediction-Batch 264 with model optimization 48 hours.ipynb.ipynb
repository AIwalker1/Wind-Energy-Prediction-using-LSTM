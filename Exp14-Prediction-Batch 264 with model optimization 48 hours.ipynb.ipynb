{
 "cells": [
  {
   "cell_type": "code",
   "execution_count": 1,
   "metadata": {},
   "outputs": [
    {
     "name": "stderr",
     "output_type": "stream",
     "text": [
      "C:\\ProgramData\\Anaconda3\\envs\\tensorflow35\\lib\\site-packages\\h5py\\__init__.py:36: FutureWarning: Conversion of the second argument of issubdtype from `float` to `np.floating` is deprecated. In future, it will be treated as `np.float64 == np.dtype(float).type`.\n",
      "  from ._conv import register_converters as _register_converters\n",
      "Using TensorFlow backend.\n"
     ]
    }
   ],
   "source": [
    "from pandas import DataFrame\n",
    "from pandas import Series\n",
    "from pandas import concat\n",
    "from pandas import read_csv\n",
    "from pandas import datetime\n",
    "from sklearn.metrics import median_absolute_error\n",
    "from sklearn.preprocessing import MinMaxScaler\n",
    "from keras.models import Sequential\n",
    "from keras.layers import Dense\n",
    "from keras.layers import LSTM\n",
    "from math import sqrt\n",
    "from matplotlib import pyplot\n",
    "import numpy as np\n",
    "import pandas as pd"
   ]
  },
  {
   "cell_type": "code",
   "execution_count": 2,
   "metadata": {},
   "outputs": [],
   "source": [
    "# Hardcode all variables\n",
    "predict_batch_size_exp = 1\n",
    "epoch_exp = 50\n",
    "neurons_exp = 5\n",
    "predict_values_exp = 48\n",
    "lag_exp=24"
   ]
  },
  {
   "cell_type": "code",
   "execution_count": 3,
   "metadata": {},
   "outputs": [],
   "source": [
    "# frame a sequence as a supervised learning problem\n",
    "def timeseries_to_supervised(data, lag=1):\n",
    "    df = DataFrame(data)\n",
    "    columns = [df.shift(i) for i in range(1, lag+1)]\n",
    "    columns.append(df)\n",
    "    df = concat(columns, axis=1)\n",
    "    df.fillna(0, inplace=True)\n",
    "    return df"
   ]
  },
  {
   "cell_type": "code",
   "execution_count": 4,
   "metadata": {},
   "outputs": [],
   "source": [
    "# create a differenced series\n",
    "def difference(dataset, interval=1):\n",
    "    diff = list()\n",
    "    for i in range(interval, len(dataset)):\n",
    "        value = dataset[i] - dataset[i - interval]\n",
    "        diff.append(value)\n",
    "    return Series(diff)"
   ]
  },
  {
   "cell_type": "code",
   "execution_count": 5,
   "metadata": {},
   "outputs": [],
   "source": [
    "# invert differenced value\n",
    "def inverse_difference(history, yhat, interval=1):\n",
    "    return yhat + history[-interval]"
   ]
  },
  {
   "cell_type": "code",
   "execution_count": 6,
   "metadata": {},
   "outputs": [],
   "source": [
    "# scale train and test data to [-1, 1]\n",
    "def scale(train, test):\n",
    "    # fit scaler\n",
    "    scaler = MinMaxScaler(feature_range=(-1, 1))\n",
    "    scaler = scaler.fit(train)\n",
    "    # transform train\n",
    "    train = train.reshape(train.shape[0], train.shape[1])\n",
    "    train_scaled = scaler.transform(train)\n",
    "    # transform test\n",
    "    test = test.reshape(test.shape[0], test.shape[1])\n",
    "    test_scaled = scaler.transform(test)\n",
    "    return scaler, train_scaled, test_scaled"
   ]
  },
  {
   "cell_type": "code",
   "execution_count": 7,
   "metadata": {},
   "outputs": [],
   "source": [
    "# inverse scaling for a forecasted value\n",
    "def invert_scale(scaler, X, value):\n",
    "    new_row = [x for x in X] + [value]\n",
    "    array = np.array(new_row)\n",
    "    array = array.reshape(1, len(array))\n",
    "    inverted = scaler.inverse_transform(array)\n",
    "    return inverted[0, -1]"
   ]
  },
  {
   "cell_type": "code",
   "execution_count": 8,
   "metadata": {},
   "outputs": [],
   "source": [
    "# fit an LSTM network to training data\n",
    "\n",
    "from keras.layers import Activation, Dense, BatchNormalization, TimeDistributed\n",
    "\n",
    "def fit_lstm(train, batch_size, nb_epoch, neurons):\n",
    "    X, y = train[:, 0:-1], train[:, -1]\n",
    "    X = X.reshape(X.shape[0], 1, X.shape[1])\n",
    "    model = Sequential()\n",
    "    model.add(LSTM(neurons_exp, dropout = 0.1 ,batch_input_shape=(batch_size, X.shape[1], X.shape[2]), stateful=True))\n",
    "    \n",
    "    \n",
    "    model.add(BatchNormalization())\n",
    "    model.add(Dense(50))\n",
    "    model.add(Activation('relu'))\n",
    "    model.add(Dense(50))\n",
    "    model.add(Activation('tanh'))\n",
    "    model.add(Dense(1))\n",
    "    \n",
    "    model.compile(loss='mean_squared_error', optimizer='adam')\n",
    "    for i in range(nb_epoch):\n",
    "        model.fit(X, y, epochs=1, batch_size=batch_size, verbose=1, shuffle=False)\n",
    "        model.reset_states()\n",
    "    return model"
   ]
  },
  {
   "cell_type": "code",
   "execution_count": 9,
   "metadata": {},
   "outputs": [],
   "source": [
    "# make a one-step forecast with new model with batch size 1\n",
    "def forecast_lstm(model, batch_size, X):\n",
    "    X = X.reshape(1, 1, len(X))\n",
    "    # re-define model\n",
    "    new_model = Sequential()\n",
    "    new_model.add(LSTM(neurons_exp, dropout = 0.1 , batch_input_shape=(batch_size, X.shape[1], X.shape[2]), stateful=True))\n",
    "    new_model.add(BatchNormalization())\n",
    "    new_model.add(Dense(50))\n",
    "    new_model.add(Activation('relu'))\n",
    "    new_model.add(Dense(50))\n",
    "    new_model.add(Activation('tanh'))\n",
    "   \n",
    "    new_model.add(Dense(1))\n",
    "    # copy weights\n",
    "    old_weights = model.get_weights()\n",
    "    new_model.set_weights(old_weights)\n",
    "    # compile model\n",
    "    new_model.compile(loss='mean_squared_error', optimizer='adam')\n",
    "    \n",
    "    \n",
    "    #print(X)\n",
    "    yhat = new_model.predict(X, batch_size=1)\n",
    "    return yhat[0,0]"
   ]
  },
  {
   "cell_type": "code",
   "execution_count": 10,
   "metadata": {},
   "outputs": [
    {
     "data": {
      "text/html": [
       "<div>\n",
       "<style scoped>\n",
       "    .dataframe tbody tr th:only-of-type {\n",
       "        vertical-align: middle;\n",
       "    }\n",
       "\n",
       "    .dataframe tbody tr th {\n",
       "        vertical-align: top;\n",
       "    }\n",
       "\n",
       "    .dataframe thead th {\n",
       "        text-align: right;\n",
       "    }\n",
       "</style>\n",
       "<table border=\"1\" class=\"dataframe\">\n",
       "  <thead>\n",
       "    <tr style=\"text-align: right;\">\n",
       "      <th></th>\n",
       "      <th>Air temperature | ('C)</th>\n",
       "      <th>Pressure | (atm)</th>\n",
       "      <th>Wind speed | (m/s)</th>\n",
       "      <th>Wind direction | (deg)</th>\n",
       "      <th>Power generated by system | (kW)</th>\n",
       "    </tr>\n",
       "    <tr>\n",
       "      <th>DateTime</th>\n",
       "      <th></th>\n",
       "      <th></th>\n",
       "      <th></th>\n",
       "      <th></th>\n",
       "      <th></th>\n",
       "    </tr>\n",
       "  </thead>\n",
       "  <tbody>\n",
       "    <tr>\n",
       "      <th>2007-01-01 00:00:00</th>\n",
       "      <td>10.926</td>\n",
       "      <td>0.979103</td>\n",
       "      <td>9.014</td>\n",
       "      <td>229</td>\n",
       "      <td>33688.1</td>\n",
       "    </tr>\n",
       "    <tr>\n",
       "      <th>2007-01-01 01:00:00</th>\n",
       "      <td>9.919</td>\n",
       "      <td>0.979566</td>\n",
       "      <td>9.428</td>\n",
       "      <td>232</td>\n",
       "      <td>37261.9</td>\n",
       "    </tr>\n",
       "    <tr>\n",
       "      <th>2007-01-01 02:00:00</th>\n",
       "      <td>8.567</td>\n",
       "      <td>0.979937</td>\n",
       "      <td>8.700</td>\n",
       "      <td>236</td>\n",
       "      <td>30502.9</td>\n",
       "    </tr>\n",
       "    <tr>\n",
       "      <th>2007-01-01 03:00:00</th>\n",
       "      <td>7.877</td>\n",
       "      <td>0.980053</td>\n",
       "      <td>8.481</td>\n",
       "      <td>247</td>\n",
       "      <td>28419.2</td>\n",
       "    </tr>\n",
       "    <tr>\n",
       "      <th>2007-01-01 04:00:00</th>\n",
       "      <td>7.259</td>\n",
       "      <td>0.979867</td>\n",
       "      <td>8.383</td>\n",
       "      <td>256</td>\n",
       "      <td>27370.3</td>\n",
       "    </tr>\n",
       "  </tbody>\n",
       "</table>\n",
       "</div>"
      ],
      "text/plain": [
       "                     Air temperature | ('C)  Pressure | (atm)  \\\n",
       "DateTime                                                        \n",
       "2007-01-01 00:00:00                  10.926          0.979103   \n",
       "2007-01-01 01:00:00                   9.919          0.979566   \n",
       "2007-01-01 02:00:00                   8.567          0.979937   \n",
       "2007-01-01 03:00:00                   7.877          0.980053   \n",
       "2007-01-01 04:00:00                   7.259          0.979867   \n",
       "\n",
       "                     Wind speed | (m/s)  Wind direction | (deg)  \\\n",
       "DateTime                                                          \n",
       "2007-01-01 00:00:00               9.014                     229   \n",
       "2007-01-01 01:00:00               9.428                     232   \n",
       "2007-01-01 02:00:00               8.700                     236   \n",
       "2007-01-01 03:00:00               8.481                     247   \n",
       "2007-01-01 04:00:00               8.383                     256   \n",
       "\n",
       "                     Power generated by system | (kW)  \n",
       "DateTime                                               \n",
       "2007-01-01 00:00:00                           33688.1  \n",
       "2007-01-01 01:00:00                           37261.9  \n",
       "2007-01-01 02:00:00                           30502.9  \n",
       "2007-01-01 03:00:00                           28419.2  \n",
       "2007-01-01 04:00:00                           27370.3  "
      ]
     },
     "execution_count": 10,
     "metadata": {},
     "output_type": "execute_result"
    }
   ],
   "source": [
    "''' Loading data '''\n",
    "import pandas as pd\n",
    "series = pd.read_excel('AL_WIND_07_12.xlsx',index_col=\"DateTime\")\n",
    "series.head()"
   ]
  },
  {
   "cell_type": "code",
   "execution_count": 11,
   "metadata": {},
   "outputs": [
    {
     "data": {
      "text/html": [
       "<div>\n",
       "<style scoped>\n",
       "    .dataframe tbody tr th:only-of-type {\n",
       "        vertical-align: middle;\n",
       "    }\n",
       "\n",
       "    .dataframe tbody tr th {\n",
       "        vertical-align: top;\n",
       "    }\n",
       "\n",
       "    .dataframe thead th {\n",
       "        text-align: right;\n",
       "    }\n",
       "</style>\n",
       "<table border=\"1\" class=\"dataframe\">\n",
       "  <thead>\n",
       "    <tr style=\"text-align: right;\">\n",
       "      <th></th>\n",
       "      <th>Power generated by system | (kW)</th>\n",
       "    </tr>\n",
       "    <tr>\n",
       "      <th>DateTime</th>\n",
       "      <th></th>\n",
       "    </tr>\n",
       "  </thead>\n",
       "  <tbody>\n",
       "    <tr>\n",
       "      <th>2007-01-01 00:00:00</th>\n",
       "      <td>33688.1</td>\n",
       "    </tr>\n",
       "    <tr>\n",
       "      <th>2007-01-01 01:00:00</th>\n",
       "      <td>37261.9</td>\n",
       "    </tr>\n",
       "    <tr>\n",
       "      <th>2007-01-01 02:00:00</th>\n",
       "      <td>30502.9</td>\n",
       "    </tr>\n",
       "    <tr>\n",
       "      <th>2007-01-01 03:00:00</th>\n",
       "      <td>28419.2</td>\n",
       "    </tr>\n",
       "    <tr>\n",
       "      <th>2007-01-01 04:00:00</th>\n",
       "      <td>27370.3</td>\n",
       "    </tr>\n",
       "  </tbody>\n",
       "</table>\n",
       "</div>"
      ],
      "text/plain": [
       "                     Power generated by system | (kW)\n",
       "DateTime                                             \n",
       "2007-01-01 00:00:00                           33688.1\n",
       "2007-01-01 01:00:00                           37261.9\n",
       "2007-01-01 02:00:00                           30502.9\n",
       "2007-01-01 03:00:00                           28419.2\n",
       "2007-01-01 04:00:00                           27370.3"
      ]
     },
     "execution_count": 11,
     "metadata": {},
     "output_type": "execute_result"
    }
   ],
   "source": [
    "'''Drop all the features as we will not be having any in production'''\n",
    "del series['Air temperature | (\\'C)']\n",
    "del series['Pressure | (atm)']\n",
    "del series['Wind speed | (m/s)']\n",
    "del series['Wind direction | (deg)']\n",
    "series.head()"
   ]
  },
  {
   "cell_type": "code",
   "execution_count": 12,
   "metadata": {},
   "outputs": [
    {
     "data": {
      "text/html": [
       "<div>\n",
       "<style scoped>\n",
       "    .dataframe tbody tr th:only-of-type {\n",
       "        vertical-align: middle;\n",
       "    }\n",
       "\n",
       "    .dataframe tbody tr th {\n",
       "        vertical-align: top;\n",
       "    }\n",
       "\n",
       "    .dataframe thead th {\n",
       "        text-align: right;\n",
       "    }\n",
       "</style>\n",
       "<table border=\"1\" class=\"dataframe\">\n",
       "  <thead>\n",
       "    <tr style=\"text-align: right;\">\n",
       "      <th></th>\n",
       "      <th>Power generated by system | (kW)</th>\n",
       "    </tr>\n",
       "    <tr>\n",
       "      <th>DateTime</th>\n",
       "      <th></th>\n",
       "    </tr>\n",
       "  </thead>\n",
       "  <tbody>\n",
       "    <tr>\n",
       "      <th>2012-12-31 04:00:00</th>\n",
       "      <td>14845.10</td>\n",
       "    </tr>\n",
       "    <tr>\n",
       "      <th>2012-12-31 05:00:00</th>\n",
       "      <td>11449.70</td>\n",
       "    </tr>\n",
       "    <tr>\n",
       "      <th>2012-12-31 06:00:00</th>\n",
       "      <td>11637.20</td>\n",
       "    </tr>\n",
       "    <tr>\n",
       "      <th>2012-12-31 07:00:00</th>\n",
       "      <td>6465.35</td>\n",
       "    </tr>\n",
       "    <tr>\n",
       "      <th>2012-12-31 08:00:00</th>\n",
       "      <td>5802.11</td>\n",
       "    </tr>\n",
       "  </tbody>\n",
       "</table>\n",
       "</div>"
      ],
      "text/plain": [
       "                     Power generated by system | (kW)\n",
       "DateTime                                             \n",
       "2012-12-31 04:00:00                          14845.10\n",
       "2012-12-31 05:00:00                          11449.70\n",
       "2012-12-31 06:00:00                          11637.20\n",
       "2012-12-31 07:00:00                           6465.35\n",
       "2012-12-31 08:00:00                           5802.11"
      ]
     },
     "execution_count": 12,
     "metadata": {},
     "output_type": "execute_result"
    }
   ],
   "source": [
    "for i in range(0,15):\n",
    "  series = series[:-1]\n",
    "series.tail()"
   ]
  },
  {
   "cell_type": "code",
   "execution_count": 13,
   "metadata": {},
   "outputs": [],
   "source": [
    "# transform data to be stationary\n",
    "raw_values = series.values\n",
    "diff_values = difference(raw_values, 1)"
   ]
  },
  {
   "cell_type": "code",
   "execution_count": 14,
   "metadata": {},
   "outputs": [],
   "source": [
    "# transform data to be supervised learning\n",
    "supervised = timeseries_to_supervised(diff_values, lag_exp)\n",
    "supervised_values = supervised.values"
   ]
  },
  {
   "cell_type": "code",
   "execution_count": 15,
   "metadata": {},
   "outputs": [],
   "source": [
    "# split data into train and test-sets\n",
    "train, test = supervised_values[0:-predict_values_exp], supervised_values[-predict_values_exp:]"
   ]
  },
  {
   "cell_type": "code",
   "execution_count": 16,
   "metadata": {},
   "outputs": [
    {
     "name": "stderr",
     "output_type": "stream",
     "text": [
      "C:\\ProgramData\\Anaconda3\\envs\\tensorflow35\\lib\\site-packages\\sklearn\\utils\\validation.py:475: DataConversionWarning: Data with input dtype object was converted to float64 by MinMaxScaler.\n",
      "  warnings.warn(msg, DataConversionWarning)\n"
     ]
    }
   ],
   "source": [
    "# transform the scale of the data\n",
    "scaler, train_scaled, test_scaled = scale(train, test)"
   ]
  },
  {
   "cell_type": "code",
   "execution_count": 17,
   "metadata": {
    "scrolled": true
   },
   "outputs": [
    {
     "name": "stdout",
     "output_type": "stream",
     "text": [
      "Epoch 1/1\n",
      "52496/52496 [==============================] - 1s 25us/step - loss: 0.0188\n",
      "Epoch 1/1\n",
      "52496/52496 [==============================] - 1s 10us/step - loss: 0.0151\n",
      "Epoch 1/1\n",
      "52496/52496 [==============================] - 1s 11us/step - loss: 0.0149\n",
      "Epoch 1/1\n",
      "52496/52496 [==============================] - 1s 11us/step - loss: 0.0147\n",
      "Epoch 1/1\n",
      "52496/52496 [==============================] - 1s 12us/step - loss: 0.0145\n",
      "Epoch 1/1\n",
      "52496/52496 [==============================] - 1s 10us/step - loss: 0.0144\n",
      "Epoch 1/1\n",
      "52496/52496 [==============================] - 1s 11us/step - loss: 0.0142\n",
      "Epoch 1/1\n",
      "52496/52496 [==============================] - 1s 12us/step - loss: 0.0141\n",
      "Epoch 1/1\n",
      "52496/52496 [==============================] - 1s 11us/step - loss: 0.0140\n",
      "Epoch 1/1\n",
      "52496/52496 [==============================] - 1s 11us/step - loss: 0.0139\n",
      "Epoch 1/1\n",
      "52496/52496 [==============================] - 1s 12us/step - loss: 0.0139\n",
      "Epoch 1/1\n",
      "52496/52496 [==============================] - 1s 12us/step - loss: 0.0138\n",
      "Epoch 1/1\n",
      "52496/52496 [==============================] - 1s 19us/step - loss: 0.0138\n",
      "Epoch 1/1\n",
      "52496/52496 [==============================] - 1s 15us/step - loss: 0.0137\n",
      "Epoch 1/1\n",
      "52496/52496 [==============================] - 1s 19us/step - loss: 0.0136\n",
      "Epoch 1/1\n",
      "52496/52496 [==============================] - 1s 12us/step - loss: 0.0136\n",
      "Epoch 1/1\n",
      "52496/52496 [==============================] - 1s 11us/step - loss: 0.0136\n",
      "Epoch 1/1\n",
      "52496/52496 [==============================] - 1s 11us/step - loss: 0.0136: 0s - los\n",
      "Epoch 1/1\n",
      "52496/52496 [==============================] - 1s 12us/step - loss: 0.0136\n",
      "Epoch 1/1\n",
      "52496/52496 [==============================] - 1s 13us/step - loss: 0.0135\n",
      "Epoch 1/1\n",
      "52496/52496 [==============================] - 1s 12us/step - loss: 0.0136\n",
      "Epoch 1/1\n",
      "52496/52496 [==============================] - 1s 10us/step - loss: 0.0135\n",
      "Epoch 1/1\n",
      "52496/52496 [==============================] - 1s 11us/step - loss: 0.0135\n",
      "Epoch 1/1\n",
      "52496/52496 [==============================] - 1s 10us/step - loss: 0.0135\n",
      "Epoch 1/1\n",
      "52496/52496 [==============================] - 1s 10us/step - loss: 0.0135\n",
      "Epoch 1/1\n",
      "52496/52496 [==============================] - 1s 11us/step - loss: 0.0135\n",
      "Epoch 1/1\n",
      "52496/52496 [==============================] - 1s 11us/step - loss: 0.0134\n",
      "Epoch 1/1\n",
      "52496/52496 [==============================] - 1s 12us/step - loss: 0.0134\n",
      "Epoch 1/1\n",
      "52496/52496 [==============================] - 1s 11us/step - loss: 0.0134\n",
      "Epoch 1/1\n",
      "52496/52496 [==============================] - 1s 11us/step - loss: 0.0134\n",
      "Epoch 1/1\n",
      "52496/52496 [==============================] - 1s 11us/step - loss: 0.0134\n",
      "Epoch 1/1\n",
      "52496/52496 [==============================] - 1s 11us/step - loss: 0.0134\n",
      "Epoch 1/1\n",
      "52496/52496 [==============================] - 1s 11us/step - loss: 0.0133: 0s - loss: 0.013\n",
      "Epoch 1/1\n",
      "52496/52496 [==============================] - 1s 11us/step - loss: 0.0133\n",
      "Epoch 1/1\n",
      "52496/52496 [==============================] - 1s 10us/step - loss: 0.0133\n",
      "Epoch 1/1\n",
      "52496/52496 [==============================] - 1s 10us/step - loss: 0.0133\n",
      "Epoch 1/1\n",
      "52496/52496 [==============================] - 1s 11us/step - loss: 0.0133\n",
      "Epoch 1/1\n",
      "52496/52496 [==============================] - 1s 11us/step - loss: 0.0133\n",
      "Epoch 1/1\n",
      "52496/52496 [==============================] - 1s 11us/step - loss: 0.0133\n",
      "Epoch 1/1\n",
      "52496/52496 [==============================] - 1s 11us/step - loss: 0.0133\n",
      "Epoch 1/1\n",
      "52496/52496 [==============================] - 1s 10us/step - loss: 0.0133\n",
      "Epoch 1/1\n",
      "52496/52496 [==============================] - 1s 11us/step - loss: 0.0133\n",
      "Epoch 1/1\n",
      "52496/52496 [==============================] - 1s 11us/step - loss: 0.0132\n",
      "Epoch 1/1\n",
      "52496/52496 [==============================] - 1s 11us/step - loss: 0.0132\n",
      "Epoch 1/1\n",
      "52496/52496 [==============================] - 1s 10us/step - loss: 0.0132\n",
      "Epoch 1/1\n",
      "52496/52496 [==============================] - 1s 12us/step - loss: 0.0133\n",
      "Epoch 1/1\n",
      "52496/52496 [==============================] - 1s 14us/step - loss: 0.0132\n",
      "Epoch 1/1\n",
      "52496/52496 [==============================] - 1s 15us/step - loss: 0.0133\n",
      "Epoch 1/1\n",
      "52496/52496 [==============================] - 1s 12us/step - loss: 0.0132\n",
      "Epoch 1/1\n",
      "52496/52496 [==============================] - 1s 10us/step - loss: 0.0132: 0s - loss: 0.\n"
     ]
    }
   ],
   "source": [
    "# fit the model\n",
    "fit_batch_size_exp = 386\n",
    "lstm_model = fit_lstm(train_scaled, fit_batch_size_exp, epoch_exp, neurons_exp)"
   ]
  },
  {
   "cell_type": "code",
   "execution_count": 18,
   "metadata": {},
   "outputs": [
    {
     "name": "stdout",
     "output_type": "stream",
     "text": [
      "Hour=1, Predicted=9136.747894, Expected=11282.000000\n",
      "Hour=2, Predicted=11565.962583, Expected=13774.400000\n",
      "Hour=3, Predicted=13902.279860, Expected=19978.700000\n",
      "Hour=4, Predicted=19980.330576, Expected=23318.400000\n",
      "Hour=5, Predicted=23592.179572, Expected=12301.800000\n",
      "Hour=6, Predicted=11353.515160, Expected=5331.850000\n",
      "Hour=7, Predicted=5682.459974, Expected=1479.590000\n",
      "Hour=8, Predicted=2017.811742, Expected=0.000000\n",
      "Hour=9, Predicted=467.154136, Expected=1699.950000\n",
      "Hour=10, Predicted=2445.466824, Expected=4932.380000\n",
      "Hour=11, Predicted=5928.742801, Expected=10551.200000\n",
      "Hour=12, Predicted=11262.728228, Expected=11277.200000\n",
      "Hour=13, Predicted=12270.923000, Expected=20258.100000\n",
      "Hour=14, Predicted=19584.526703, Expected=27235.300000\n",
      "Hour=15, Predicted=26611.763873, Expected=29297.100000\n",
      "Hour=16, Predicted=29261.406284, Expected=50140.200000\n",
      "Hour=17, Predicted=45035.410954, Expected=28258.100000\n",
      "Hour=18, Predicted=25137.836558, Expected=0.000000\n",
      "Hour=19, Predicted=2162.021844, Expected=3868.210000\n",
      "Hour=20, Predicted=5362.374092, Expected=0.000000\n",
      "Hour=21, Predicted=532.049230, Expected=0.000000\n",
      "Hour=22, Predicted=1299.505958, Expected=0.000000\n",
      "Hour=23, Predicted=1164.497810, Expected=4135.800000\n",
      "Hour=24, Predicted=4065.437762, Expected=13607.200000\n",
      "Hour=25, Predicted=12538.908269, Expected=24571.700000\n",
      "Hour=26, Predicted=26561.368072, Expected=32106.600000\n",
      "Hour=27, Predicted=27624.405517, Expected=36286.000000\n",
      "Hour=28, Predicted=35048.576305, Expected=32040.800000\n",
      "Hour=29, Predicted=32163.871998, Expected=27413.500000\n",
      "Hour=30, Predicted=26289.695403, Expected=20005.800000\n",
      "Hour=31, Predicted=21213.182352, Expected=19870.600000\n",
      "Hour=32, Predicted=21096.725376, Expected=23296.700000\n",
      "Hour=33, Predicted=23771.991677, Expected=36275.400000\n",
      "Hour=34, Predicted=38713.635809, Expected=41119.700000\n",
      "Hour=35, Predicted=41724.475194, Expected=45831.200000\n",
      "Hour=36, Predicted=45320.099464, Expected=38451.600000\n",
      "Hour=37, Predicted=36430.904448, Expected=38107.700000\n",
      "Hour=38, Predicted=37198.021443, Expected=36325.100000\n",
      "Hour=39, Predicted=37394.156874, Expected=37641.300000\n",
      "Hour=40, Predicted=37211.849057, Expected=36876.500000\n",
      "Hour=41, Predicted=36368.422167, Expected=35723.600000\n",
      "Hour=42, Predicted=35622.877170, Expected=28221.500000\n",
      "Hour=43, Predicted=29565.760822, Expected=22650.000000\n",
      "Hour=44, Predicted=24510.984751, Expected=14845.100000\n",
      "Hour=45, Predicted=17149.933564, Expected=11449.700000\n",
      "Hour=46, Predicted=13181.715681, Expected=11637.200000\n",
      "Hour=47, Predicted=12950.093964, Expected=6465.350000\n",
      "Hour=48, Predicted=8618.230155, Expected=5802.110000\n"
     ]
    }
   ],
   "source": [
    "# walk-forward validation on the test data\n",
    "predictions = list()\n",
    "expectations = list()\n",
    "for i in range(len(test_scaled)):\n",
    "    # make one-step forecast\n",
    "    #print(test_scaled)\n",
    "    X, y = test_scaled[i, 0:-1], test_scaled[i, -1]\n",
    "    #print(X)\n",
    "    yhat = forecast_lstm(lstm_model, predict_batch_size_exp, X)\n",
    "    # invert scaling\n",
    "    yhat = invert_scale(scaler, X, yhat)\n",
    "    # invert differencing\n",
    "    yhat = inverse_difference(raw_values, yhat, len(test_scaled)+1-i)\n",
    "    # store forecast\n",
    "    expected = raw_values[len(train) + i + 1]\n",
    "    if expected != 0:\n",
    "        predictions.append(yhat)\n",
    "        expectations.append(expected)\n",
    "    print('Hour=%d, Predicted=%f, Expected=%f' % (i+1, yhat, expected))"
   ]
  },
  {
   "cell_type": "code",
   "execution_count": 19,
   "metadata": {},
   "outputs": [
    {
     "name": "stdout",
     "output_type": "stream",
     "text": [
      "Mean Percent Error:  38.94692167214309\n"
     ]
    }
   ],
   "source": [
    "expectations = np.array(expectations)\n",
    "predictions = np.array(predictions)\n",
    "print(\"Mean Percent Error: \", (np.mean(np.abs((expectations - predictions) / expectations))*100))"
   ]
  },
  {
   "cell_type": "code",
   "execution_count": 21,
   "metadata": {},
   "outputs": [
    {
     "data": {
      "image/png": "[encoded data removed]",
      "text/plain": [
       "<Figure size 432x288 with 1 Axes>"
      ]
     },
     "metadata": {},
     "output_type": "display_data"
    }
   ],
   "source": [
    "# line plot of observed vs predicted\n",
    "pyplot.plot(expectations, label=\"True\")\n",
    "pyplot.plot(predictions, label=\"Predicted\")\n",
    "pyplot.legend(loc='upper right')\n",
    "pyplot.xlabel(\"Number of hours\")\n",
    "pyplot.ylabel(\"Power generated by system (kW)\")\n",
    "pyplot.show()"
   ]
  },
  {
   "cell_type": "code",
   "execution_count": null,
   "metadata": {},
   "outputs": [],
   "source": []
  }
 ],
 "metadata": {
  "kernelspec": {
   "display_name": "Python 3",
   "language": "python",
   "name": "python3"
  },
  "language_info": {
   "codemirror_mode": {
    "name": "ipython",
    "version": 3
   },
   "file_extension": ".py",
   "mimetype": "text/x-python",
   "name": "python",
   "nbconvert_exporter": "python",
   "pygments_lexer": "ipython3",
   "version": "3.5.5"
  }
 },
 "nbformat": 4,
 "nbformat_minor": 2
}
